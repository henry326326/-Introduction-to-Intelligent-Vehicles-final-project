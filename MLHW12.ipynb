{
  "nbformat": 4,
  "nbformat_minor": 0,
  "metadata": {
    "accelerator": "GPU",
    "colab": {
      "name": "MLHW12.ipynb",
      "provenance": [],
      "collapsed_sections": [
        "yXsnCWPtWSNk"
      ]
    },
    "kernelspec": {
      "display_name": "Python 3",
      "name": "python3"
    },
    "widgets": {
      "application/vnd.jupyter.widget-state+json": {
        "7f5cff0e3fa8475d9ddcee973ca36039": {
          "model_module": "@jupyter-widgets/controls",
          "model_name": "HBoxModel",
          "state": {
            "_view_name": "HBoxView",
            "_dom_classes": [],
            "_model_name": "HBoxModel",
            "_view_module": "@jupyter-widgets/controls",
            "_model_module_version": "1.5.0",
            "_view_count": null,
            "_view_module_version": "1.5.0",
            "box_style": "",
            "layout": "IPY_MODEL_928b4f33e5f74beea08ac8f568264117",
            "_model_module": "@jupyter-widgets/controls",
            "children": [
              "IPY_MODEL_bc10e8f8dcf646e39d11faf8212041ee",
              "IPY_MODEL_7e9badce3bb54a05a9158908b48d28d0"
            ]
          }
        },
        "928b4f33e5f74beea08ac8f568264117": {
          "model_module": "@jupyter-widgets/base",
          "model_name": "LayoutModel",
          "state": {
            "_view_name": "LayoutView",
            "grid_template_rows": null,
            "right": null,
            "justify_content": null,
            "_view_module": "@jupyter-widgets/base",
            "overflow": null,
            "_model_module_version": "1.2.0",
            "_view_count": null,
            "flex_flow": null,
            "width": null,
            "min_width": null,
            "border": null,
            "align_items": null,
            "bottom": null,
            "_model_module": "@jupyter-widgets/base",
            "top": null,
            "grid_column": null,
            "overflow_y": null,
            "overflow_x": null,
            "grid_auto_flow": null,
            "grid_area": null,
            "grid_template_columns": null,
            "flex": null,
            "_model_name": "LayoutModel",
            "justify_items": null,
            "grid_row": null,
            "max_height": null,
            "align_content": null,
            "visibility": null,
            "align_self": null,
            "height": null,
            "min_height": null,
            "padding": null,
            "grid_auto_rows": null,
            "grid_gap": null,
            "max_width": null,
            "order": null,
            "_view_module_version": "1.2.0",
            "grid_template_areas": null,
            "object_position": null,
            "object_fit": null,
            "grid_auto_columns": null,
            "margin": null,
            "display": null,
            "left": null
          }
        },
        "bc10e8f8dcf646e39d11faf8212041ee": {
          "model_module": "@jupyter-widgets/controls",
          "model_name": "FloatProgressModel",
          "state": {
            "_view_name": "ProgressView",
            "style": "IPY_MODEL_ec899b03d99b49958d7a139fc11f4846",
            "_dom_classes": [],
            "description": "Total:  138.8, Final:  20.0, Loss:  0.07381:   2%",
            "_model_name": "FloatProgressModel",
            "bar_style": "",
            "max": 1000,
            "_view_module": "@jupyter-widgets/controls",
            "_model_module_version": "1.5.0",
            "value": 19,
            "_view_count": null,
            "_view_module_version": "1.5.0",
            "orientation": "horizontal",
            "min": 0,
            "description_tooltip": null,
            "_model_module": "@jupyter-widgets/controls",
            "layout": "IPY_MODEL_b8334fbcf6bd4e26a95fcca7354604dc"
          }
        },
        "7e9badce3bb54a05a9158908b48d28d0": {
          "model_module": "@jupyter-widgets/controls",
          "model_name": "HTMLModel",
          "state": {
            "_view_name": "HTMLView",
            "style": "IPY_MODEL_36f5f3c037a94073b4fe99a2d1b8675d",
            "_dom_classes": [],
            "description": "",
            "_model_name": "HTMLModel",
            "placeholder": "​",
            "_view_module": "@jupyter-widgets/controls",
            "_model_module_version": "1.5.0",
            "value": " 19/1000 [41:18&lt;35:19:43, 129.65s/it]",
            "_view_count": null,
            "_view_module_version": "1.5.0",
            "description_tooltip": null,
            "_model_module": "@jupyter-widgets/controls",
            "layout": "IPY_MODEL_e54f6f04364c4c8f8917f9257564c2a5"
          }
        },
        "ec899b03d99b49958d7a139fc11f4846": {
          "model_module": "@jupyter-widgets/controls",
          "model_name": "ProgressStyleModel",
          "state": {
            "_view_name": "StyleView",
            "_model_name": "ProgressStyleModel",
            "description_width": "initial",
            "_view_module": "@jupyter-widgets/base",
            "_model_module_version": "1.5.0",
            "_view_count": null,
            "_view_module_version": "1.2.0",
            "bar_color": null,
            "_model_module": "@jupyter-widgets/controls"
          }
        },
        "b8334fbcf6bd4e26a95fcca7354604dc": {
          "model_module": "@jupyter-widgets/base",
          "model_name": "LayoutModel",
          "state": {
            "_view_name": "LayoutView",
            "grid_template_rows": null,
            "right": null,
            "justify_content": null,
            "_view_module": "@jupyter-widgets/base",
            "overflow": null,
            "_model_module_version": "1.2.0",
            "_view_count": null,
            "flex_flow": null,
            "width": null,
            "min_width": null,
            "border": null,
            "align_items": null,
            "bottom": null,
            "_model_module": "@jupyter-widgets/base",
            "top": null,
            "grid_column": null,
            "overflow_y": null,
            "overflow_x": null,
            "grid_auto_flow": null,
            "grid_area": null,
            "grid_template_columns": null,
            "flex": null,
            "_model_name": "LayoutModel",
            "justify_items": null,
            "grid_row": null,
            "max_height": null,
            "align_content": null,
            "visibility": null,
            "align_self": null,
            "height": null,
            "min_height": null,
            "padding": null,
            "grid_auto_rows": null,
            "grid_gap": null,
            "max_width": null,
            "order": null,
            "_view_module_version": "1.2.0",
            "grid_template_areas": null,
            "object_position": null,
            "object_fit": null,
            "grid_auto_columns": null,
            "margin": null,
            "display": null,
            "left": null
          }
        },
        "36f5f3c037a94073b4fe99a2d1b8675d": {
          "model_module": "@jupyter-widgets/controls",
          "model_name": "DescriptionStyleModel",
          "state": {
            "_view_name": "StyleView",
            "_model_name": "DescriptionStyleModel",
            "description_width": "",
            "_view_module": "@jupyter-widgets/base",
            "_model_module_version": "1.5.0",
            "_view_count": null,
            "_view_module_version": "1.2.0",
            "_model_module": "@jupyter-widgets/controls"
          }
        },
        "e54f6f04364c4c8f8917f9257564c2a5": {
          "model_module": "@jupyter-widgets/base",
          "model_name": "LayoutModel",
          "state": {
            "_view_name": "LayoutView",
            "grid_template_rows": null,
            "right": null,
            "justify_content": null,
            "_view_module": "@jupyter-widgets/base",
            "overflow": null,
            "_model_module_version": "1.2.0",
            "_view_count": null,
            "flex_flow": null,
            "width": null,
            "min_width": null,
            "border": null,
            "align_items": null,
            "bottom": null,
            "_model_module": "@jupyter-widgets/base",
            "top": null,
            "grid_column": null,
            "overflow_y": null,
            "overflow_x": null,
            "grid_auto_flow": null,
            "grid_area": null,
            "grid_template_columns": null,
            "flex": null,
            "_model_name": "LayoutModel",
            "justify_items": null,
            "grid_row": null,
            "max_height": null,
            "align_content": null,
            "visibility": null,
            "align_self": null,
            "height": null,
            "min_height": null,
            "padding": null,
            "grid_auto_rows": null,
            "grid_gap": null,
            "max_width": null,
            "order": null,
            "_view_module_version": "1.2.0",
            "grid_template_areas": null,
            "object_position": null,
            "object_fit": null,
            "grid_auto_columns": null,
            "margin": null,
            "display": null,
            "left": null
          }
        }
      }
    }
  },
  "cells": [
    {
      "cell_type": "markdown",
      "metadata": {
        "id": "Fp30SB4bxeQb"
      },
      "source": [
        "# **Homework 12 - Reinforcement Learning**\n",
        "\n",
        "若有任何問題，歡迎來信至助教信箱 ntu-ml-2021spring-ta@googlegroups.com\n",
        "\n"
      ]
    },
    {
      "cell_type": "markdown",
      "metadata": {
        "id": "yXsnCWPtWSNk"
      },
      "source": [
        "## 前置作業\n",
        "\n",
        "首先我們需要安裝必要的系統套件及 PyPi 套件。\n",
        "gym 這個套件由 OpenAI 所提供，是一套用來開發與比較 Reinforcement Learning 演算法的工具包（toolkit）。\n",
        "而其餘套件則是為了在 Notebook 中繪圖所需要的套件。"
      ]
    },
    {
      "cell_type": "code",
      "metadata": {
        "id": "5e2bScpnkVbv"
      },
      "source": [
        "!apt update\n",
        "!apt install python-opengl xvfb -y\n",
        "!pip install gym[box2d]==0.18.3 pyvirtualdisplay tqdm numpy==1.19.5 torch==1.8.1"
      ],
      "execution_count": null,
      "outputs": []
    },
    {
      "cell_type": "markdown",
      "metadata": {
        "id": "M_-i3cdoYsks"
      },
      "source": [
        "接下來，設置好 virtual display，並引入所有必要的套件。"
      ]
    },
    {
      "cell_type": "code",
      "metadata": {
        "id": "nl2nREINDLiw"
      },
      "source": [
        "%%capture\n",
        "from pyvirtualdisplay import Display\n",
        "virtual_display = Display(visible=0, size=(1400, 900))\n",
        "virtual_display.start()\n",
        "\n",
        "%matplotlib inline\n",
        "import matplotlib.pyplot as plt\n",
        "\n",
        "from IPython import display\n",
        "\n",
        "import numpy as np\n",
        "import torch\n",
        "import torch.nn as nn\n",
        "import torch.optim as optim\n",
        "import torch.nn.functional as F\n",
        "from torch.distributions import Categorical\n",
        "from tqdm.notebook import tqdm"
      ],
      "execution_count": null,
      "outputs": []
    },
    {
      "cell_type": "markdown",
      "metadata": {
        "id": "HVu9-Vdrl4E3"
      },
      "source": [
        "# 請不要更改 random seed !!!!\n",
        "# 不然在judgeboi上 你的成績不會被reproduce !!!!"
      ]
    },
    {
      "cell_type": "code",
      "metadata": {
        "id": "fV9i8i2YkRbO"
      },
      "source": [
        "seed = 543 # Do not change this\n",
        "def fix(env, seed):\n",
        "  env.seed(seed)\n",
        "  env.action_space.seed(seed)\n",
        "  torch.manual_seed(seed)\n",
        "  torch.cuda.manual_seed(seed)\n",
        "  torch.cuda.manual_seed_all(seed)\n",
        "  np.random.seed(seed)\n",
        "  random.seed(seed)\n",
        "  torch.set_deterministic(True)\n",
        "  torch.backends.cudnn.benchmark = False\n",
        "  torch.backends.cudnn.deterministic = True"
      ],
      "execution_count": null,
      "outputs": []
    },
    {
      "cell_type": "markdown",
      "metadata": {
        "id": "He0XDx6bzjgC"
      },
      "source": [
        "最後，引入 OpenAI 的 gym，並建立一個 [Lunar Lander](https://gym.openai.com/envs/LunarLander-v2/) 環境。"
      ]
    },
    {
      "cell_type": "code",
      "metadata": {
        "id": "N_4-xJcbBt09"
      },
      "source": [
        "%%capture\n",
        "import gym\n",
        "import random\n",
        "import numpy as np\n",
        "import math\n",
        "import os\n",
        "from collections import deque\n",
        "from google.colab import drive\n",
        "drive.mount('/content/drive')\n",
        "\n",
        "env = gym.make('LunarLander-v2')\n",
        "\n",
        "fix(env, seed)"
      ],
      "execution_count": null,
      "outputs": []
    },
    {
      "cell_type": "code",
      "metadata": {
        "id": "NmiAOfqRwRX5"
      },
      "source": [
        "import time\n",
        "start = time.time()"
      ],
      "execution_count": null,
      "outputs": []
    },
    {
      "cell_type": "code",
      "metadata": {
        "id": "LcMjEUWTBEEB"
      },
      "source": [
        "!pip freeze"
      ],
      "execution_count": null,
      "outputs": []
    },
    {
      "cell_type": "markdown",
      "metadata": {
        "id": "NrkVvTrvWZ5H"
      },
      "source": [
        "## 什麼是 Lunar Lander？\n",
        "\n",
        "“LunarLander-v2” 這個環境是在模擬登月小艇降落在月球表面時的情形。\n",
        "這個任務的目標是讓登月小艇「安全地」降落在兩個黃色旗幟間的平地上。\n",
        "> Landing pad is always at coordinates (0,0).\n",
        "> Coordinates are the first two numbers in state vector.\n",
        "\n",
        "![](https://gym.openai.com/assets/docs/aeloop-138c89d44114492fd02822303e6b4b07213010bb14ca5856d2d49d6b62d88e53.svg)\n",
        "\n",
        "所謂的「環境」其實同時包括了 agent 和 environment。\n",
        "我們利用 `step()` 這個函式讓 agent 行動，而後函式便會回傳 environment 給予的 observation/state（以下這兩個名詞代表同樣的意思）和 reward。"
      ]
    },
    {
      "cell_type": "markdown",
      "metadata": {
        "id": "bIbp82sljvAt"
      },
      "source": [
        "### Observation / State\n",
        "\n",
        "首先，我們可以看看 environment 回傳給 agent 的 observation 究竟是長什麼樣子的資料："
      ]
    },
    {
      "cell_type": "code",
      "metadata": {
        "id": "rsXZra3N9R5T"
      },
      "source": [
        "print(env.observation_space)"
      ],
      "execution_count": null,
      "outputs": []
    },
    {
      "cell_type": "markdown",
      "metadata": {
        "id": "ezdfoThbAQ49"
      },
      "source": [
        "`Box(8,)` 說明我們會拿到 8 維的向量作為 observation，其中包含：垂直及水平座標、速度、角度、加速度等等，這部分我們就不細說。\n",
        "\n",
        "### Action\n",
        "\n",
        "而在 agent 得到 observation 和 reward 以後，能夠採取的動作有："
      ]
    },
    {
      "cell_type": "code",
      "metadata": {
        "id": "p1k4dIrBAaKi"
      },
      "source": [
        "print(env.action_space)"
      ],
      "execution_count": null,
      "outputs": []
    },
    {
      "cell_type": "markdown",
      "metadata": {
        "id": "dejXT6PHBrPn"
      },
      "source": [
        "`Discrete(4)` 說明 agent 可以採取四種離散的行動：\n",
        "- 0 代表不採取任何行動\n",
        "- 2 代表主引擎向下噴射\n",
        "- 1, 3 則是向左右噴射\n",
        "\n",
        "接下來，我們嘗試讓 agent 與 environment 互動。\n",
        "在進行任何操作前，建議先呼叫 `reset()` 函式讓整個「環境」重置。\n",
        "而這個函式同時會回傳「環境」最初始的狀態。"
      ]
    },
    {
      "cell_type": "code",
      "metadata": {
        "id": "pi4OmrmZgnWA"
      },
      "source": [
        "initial_state = env.reset()\n",
        "print(initial_state)"
      ],
      "execution_count": null,
      "outputs": []
    },
    {
      "cell_type": "markdown",
      "metadata": {
        "id": "uBx0mEqqgxJ9"
      },
      "source": [
        "接著，我們試著從 agent 的四種行動空間中，隨機採取一個行動"
      ]
    },
    {
      "cell_type": "code",
      "metadata": {
        "id": "vxkOEXRKgizt"
      },
      "source": [
        "random_action = env.action_space.sample()\n",
        "print(random_action)"
      ],
      "execution_count": null,
      "outputs": []
    },
    {
      "cell_type": "markdown",
      "metadata": {
        "id": "mns-bO01g0-J"
      },
      "source": [
        "再利用 `step()` 函式讓 agent 根據我們隨機抽樣出來的 `random_action` 動作。\n",
        "而這個函式會回傳四項資訊：\n",
        "- observation / state\n",
        "- reward\n",
        "- 完成與否\n",
        "- 其餘資訊"
      ]
    },
    {
      "cell_type": "code",
      "metadata": {
        "id": "E_WViSxGgIk9"
      },
      "source": [
        "observation, reward, done, info = env.step(random_action)"
      ],
      "execution_count": null,
      "outputs": []
    },
    {
      "cell_type": "markdown",
      "metadata": {
        "id": "FdieGq7NuBIm"
      },
      "source": [
        "第一項資訊 `observation` 即為 agent 採取行動之後，agent 對於環境的 observation 或者說環境的 state 為何。\n",
        "而第三項資訊 `done` 則是 `True` 或 `False` 的布林值，當登月小艇成功著陸或是不幸墜毀時，代表這個回合（episode）也就跟著結束了，此時 `step()` 函式便會回傳 `done = True`，而在那之前，`done` 則保持 `False`。"
      ]
    },
    {
      "cell_type": "code",
      "metadata": {
        "id": "yK7r126kuCNp"
      },
      "source": [
        "print(done)"
      ],
      "execution_count": null,
      "outputs": []
    },
    {
      "cell_type": "markdown",
      "metadata": {
        "id": "GKdS8vOihxhc"
      },
      "source": [
        "### Reward\n",
        "\n",
        "而「環境」給予的 reward 大致是這樣計算：\n",
        "- 小艇墜毀得到 -100 分\n",
        "- 小艇在黃旗幟之間成功著地則得 100~140 分\n",
        "- 噴射主引擎（向下噴火）每次 -0.3 分\n",
        "- 小艇最終完全靜止則再得 100 分\n",
        "- 小艇每隻腳碰觸地面 +10 分\n",
        "\n",
        "> Reward for moving from the top of the screen to landing pad and zero speed is about 100..140 points.\n",
        "> If lander moves away from landing pad it loses reward back.\n",
        "> Episode finishes if the lander crashes or comes to rest, receiving additional -100 or +100 points.\n",
        "> Each leg ground contact is +10.\n",
        "> Firing main engine is -0.3 points each frame.\n"
      ]
    },
    {
      "cell_type": "code",
      "metadata": {
        "id": "vxQNs77hi0_7"
      },
      "source": [
        "print(reward) # after doing a random action (0), the immediate reward is stored in this "
      ],
      "execution_count": null,
      "outputs": []
    },
    {
      "cell_type": "markdown",
      "metadata": {
        "id": "Mhqp6D-XgHpe"
      },
      "source": [
        "### Random Agent\n",
        "\n",
        "最後，在進入實做之前，我們就來看看這樣一個 random agent 能否成功登陸月球："
      ]
    },
    {
      "cell_type": "code",
      "metadata": {
        "colab": {
          "base_uri": "https://localhost:8080/",
          "height": 1000
        },
        "id": "Y3G0bxoccelv",
        "outputId": "cd6dbfa1-9883-4ece-d11c-9d8b4ec983ef"
      },
      "source": [
        "\n",
        "env.reset()\n",
        "\n",
        "img = plt.imshow(env.render(mode='rgb_array'))\n",
        "\n",
        "done = False\n",
        "while not done:\n",
        "    action = env.action_space.sample()\n",
        "    observation, reward, done, _ = env.step(action)\n",
        "\n",
        "    print(reward)\n",
        "    #img.set_data(env.render(mode='rgb_array'))\n",
        "    #display.display(plt.gcf())\n",
        "    #display.clear_output(wait=True)\n"
      ],
      "execution_count": 14,
      "outputs": [
        {
          "output_type": "stream",
          "text": [
            "2.2717430832380616\n",
            "-1.880252524218463\n",
            "-2.419177416825646\n",
            "-1.541756929490872\n",
            "-2.4384571603708296\n",
            "-1.4366873191736136\n",
            "3.2181820348632586\n",
            "-1.8150127449745526\n",
            "-1.7708848037169673\n",
            "4.6488077257926195\n",
            "-1.5304868312842064\n",
            "-2.2778416068092597\n",
            "-1.862866902715183\n",
            "-2.4405314889779945\n",
            "-2.460658333711335\n",
            "3.6390918607870164\n",
            "-2.2654263391114284\n",
            "-2.2135589059606957\n",
            "1.0226217535796536\n",
            "-2.2281335385373495\n",
            "-1.7494692006563628\n",
            "2.721927282879517\n",
            "-2.5402026527530936\n",
            "-2.6801011465001907\n",
            "-1.8292143955875406\n",
            "1.2238518521831565\n",
            "3.056283973873957\n",
            "-1.5846288744594677\n",
            "-1.298366034895223\n",
            "-1.1949746767514842\n",
            "-1.9848932340697434\n",
            "-1.1095518480615556\n",
            "-1.729827571547246\n",
            "-0.8586992776184548\n",
            "-1.5999853452418324\n",
            "-0.8444193743054871\n",
            "-1.6190323604119772\n",
            "-0.8640436700749479\n",
            "-0.4062052207619036\n",
            "-1.2300141799054234\n",
            "-0.32253749348529825\n",
            "-0.23523222512315442\n",
            "-0.8748817922862873\n",
            "-0.9266315722266814\n",
            "-1.2031411795698819\n",
            "-0.2990749237483772\n",
            "-0.4964414717130978\n",
            "1.6237773854146667\n",
            "4.96193731965401\n",
            "-0.06250550714619749\n",
            "2.0741620233478786\n",
            "-0.19331840786327348\n",
            "0.4405579241050941\n",
            "-0.363630407855253\n",
            "-0.531287524207612\n",
            "-0.6721809899287041\n",
            "0.17863858326023888\n",
            "0.31851234736348144\n",
            "0.5092201207932601\n",
            "0.6940889415936351\n",
            "6.574666201421434\n",
            "4.968575693064293\n",
            "-0.2490265999763028\n",
            "0.5683963716091693\n",
            "-0.2860060912382767\n",
            "4.1748123156315105\n",
            "0.3391003545845035\n",
            "2.831113458540057\n",
            "-0.4911833450708514\n",
            "2.7606178654245754\n",
            "0.7002327549375138\n",
            "7.678008848347162\n",
            "-100\n"
          ],
          "name": "stdout"
        },
        {
          "output_type": "display_data",
          "data": {
            "image/png": "[encoded data removed]",
            "text/plain": [
              "<Figure size 432x288 with 1 Axes>"
            ]
          },
          "metadata": {
            "tags": [],
            "needs_background": "light"
          }
        }
      ]
    },
    {
      "cell_type": "markdown",
      "metadata": {
        "id": "F5paWqo7tWL2"
      },
      "source": [
        "## Policy Gradient\n",
        "\n",
        "現在來搭建一個簡單的 policy network。\n",
        "我們預設模型的輸入是 8-dim 的 observation，輸出則是離散的四個動作之一："
      ]
    },
    {
      "cell_type": "code",
      "metadata": {
        "id": "J8tdmeD-tZew"
      },
      "source": [
        "class PolicyGradientNetwork(nn.Module):\n",
        "\n",
        "    def __init__(self):\n",
        "        super().__init__()\n",
        "        self.fc1 = nn.Linear(8, 64)\n",
        "        self.fc2 = nn.Linear(64, 64)\n",
        "        self.fc3 = nn.Linear(64, 64)\n",
        "        self.fc4 = nn.Linear(64, 4)\n",
        "\n",
        "    def forward(self, state):\n",
        "        hid = torch.relu(self.fc1(state))\n",
        "        hid = torch.relu(self.fc2(hid))\n",
        "        hid = torch.relu(self.fc3(hid))\n",
        "        return self.fc4(hid)\n"
      ],
      "execution_count": 15,
      "outputs": []
    },
    {
      "cell_type": "markdown",
      "metadata": {
        "id": "zIwe9uvW_1Mn"
      },
      "source": [
        "## Memory Replay\n"
      ]
    },
    {
      "cell_type": "code",
      "metadata": {
        "id": "HzEjNMzC_51r"
      },
      "source": [
        "# reference:https://pytorch.org/tutorials/intermediate/reinforcement_q_learning.html\n",
        "class MemoryReplay():\n",
        "  def __init__(self, max_len=700000):\n",
        "    self.dq = deque([],maxlen=max_len)\n",
        "  \n",
        "  def push(self, state, action, next_state, reward, done):\n",
        "    self.dq.append([state, action, next_state, reward, done])\n",
        "\n",
        "  def sample(self, batch_size):\n",
        "    return random.sample(self.dq, batch_size)\n",
        "  \n",
        "  def __len__(self):\n",
        "    return len(self.dq)"
      ],
      "execution_count": 16,
      "outputs": []
    },
    {
      "cell_type": "markdown",
      "metadata": {
        "id": "ynbqJrhIFTC3"
      },
      "source": [
        "再來，搭建一個簡單的 agent，並搭配上方的 policy network 來採取行動。\n",
        "這個 agent 能做到以下幾件事：\n",
        "- `learn()`：從記下來的 log probabilities 及 rewards 來更新 policy network。\n",
        "- `sample()`：從 environment 得到 observation 之後，利用 policy network 得出應該採取的行動。\n",
        "而此函式除了回傳抽樣出來的 action，也會回傳此次抽樣的 log probabilities。"
      ]
    },
    {
      "cell_type": "code",
      "metadata": {
        "id": "zZo-IxJx286z"
      },
      "source": [
        "class DQNAgent():\n",
        "    def __init__(self, network):\n",
        "        self.network = network\n",
        "        self.eval_network = network\n",
        "        self.optimizer = optim.AdamW(self.network.parameters(), lr=1e-6, amsgrad=True)\n",
        "        self.criterion = nn.SmoothL1Loss(beta=0.2)\n",
        "        self.EPS_START = 0.99\n",
        "        self.EPS_END = 0.10\n",
        "        self.eps = self.EPS_START\n",
        "        self.EPS_DECAY = 60\n",
        "        self.memory = MemoryReplay(100000)\n",
        "        self.steps = 0\n",
        "        self.BATCH_SIZE = 128\n",
        "        self.GAMMA = 0.999\n",
        "        self.TAU = 5e-3\n",
        "        self.STEP_LEARN = 16\n",
        "        self.C = 1\n",
        "        self.Clamp = 1\n",
        "    def forward(self, state):\n",
        "        return self.network(state)\n",
        "\n",
        "    def learn(self):\n",
        "      self.network.train()\n",
        "      if len(self.memory) < self.BATCH_SIZE:\n",
        "        return 0.0\n",
        "      batch = self.memory.sample(self.BATCH_SIZE)\n",
        "      loss = 0.0\n",
        "      avgloss = 0.0\n",
        "\n",
        "      for i in range(self.BATCH_SIZE):\n",
        "        state = torch.from_numpy(np.vstack([batch[i][0]] for i in range(self.BATCH_SIZE))).float()\n",
        "        action = torch.from_numpy(np.vstack([batch[i][1]] for i in range(self.BATCH_SIZE))).long()\n",
        "        next_state = torch.from_numpy(np.vstack([batch[i][2]] for i in range(self.BATCH_SIZE))).float()\n",
        "        reward = torch.from_numpy(np.vstack([batch[i][3]] for i in range(self.BATCH_SIZE))).float()\n",
        "        done = torch.from_numpy(np.vstack([batch[i][4]] for i in range(self.BATCH_SIZE))).float()\n",
        "        \n",
        "        state_action_score = self.network(torch.FloatTensor(state)).gather(1,action)\n",
        "\n",
        "        next_state_action_score = self.eval_network(torch.FloatTensor(next_state)).detach().max(1)[0].unsqueeze(1)\n",
        "        state_action_score_now = reward + (self.GAMMA * next_state_action_score * (1-done))\n",
        "        \n",
        "        #if i == 0: print('debug', state_action_score_now, state_action_score)\n",
        "\n",
        "        loss = self.criterion(state_action_score_now, state_action_score) * self.C\n",
        "        avgloss += loss.item()/self.BATCH_SIZE\n",
        "        self.optimizer.zero_grad()\n",
        "        loss.backward()\n",
        "        for param in self.network.parameters():\n",
        "          param.grad.data.clamp_(-self.Clamp, self.Clamp)\n",
        "        self.optimizer.step()\n",
        "\n",
        "        for param, eval_param in zip(self.network.parameters(), self.eval_network.parameters()):\n",
        "          eval_param.data.copy_(param.data * self.TAU + (1 - self.TAU) * eval_param.data)\n",
        "      return avgloss\n",
        "\n",
        "    def best_action(self, state):\n",
        "      self.network.eval()\n",
        "      action_score = self.network(torch.FloatTensor(state))\n",
        "      action = torch.argmax(action_score)\n",
        "      #print('debug in sample',action_prob, action_dist, action)\n",
        "      return action.item()\n",
        "\n",
        "    def sample(self, state):\n",
        "      rd = random.random()\n",
        "      #print(self.eps)\n",
        "      if rd > self.eps:\n",
        "        return self.best_action(state)\n",
        "      return random.randrange(4)\n",
        "\n",
        "    def save(self, PATH): # You should not revise this\n",
        "      Agent_Dict = {\n",
        "          \"network\" : self.network.state_dict(),\n",
        "          \"optimizer\" : self.optimizer.state_dict()\n",
        "          #\"eps\": self.eps\n",
        "      }\n",
        "      torch.save(Agent_Dict, PATH)\n",
        "\n",
        "    def load(self, PATH): # You should not revise this\n",
        "      checkpoint = torch.load(PATH)\n",
        "      self.network.load_state_dict(checkpoint[\"network\"]) \n",
        "      self.eval_network.load_state_dict(checkpoint[\"network\"])\n",
        "      #如果要儲存過程或是中斷訓練後想繼續可以用喔 ^_^\n",
        "      self.optimizer.load_state_dict(checkpoint[\"optimizer\"])\n",
        "      #self.eps = checkpoint[\"eps\"]"
      ],
      "execution_count": 17,
      "outputs": []
    },
    {
      "cell_type": "markdown",
      "metadata": {
        "id": "ehPlnTKyRZf9"
      },
      "source": [
        "最後，建立一個 network 和 agent，就可以開始進行訓練了。"
      ]
    },
    {
      "cell_type": "code",
      "metadata": {
        "id": "GfJIvML-RYjL"
      },
      "source": [
        "network = PolicyGradientNetwork()\n",
        "agent = DQNAgent(network)\n",
        "#agent = PolicyGradientAgent()"
      ],
      "execution_count": 18,
      "outputs": []
    },
    {
      "cell_type": "code",
      "metadata": {
        "id": "peg_IZXpjPsT"
      },
      "source": [
        "best_eval_score = 241.0\n",
        "def eval_model(agent):\n",
        "  global best_eval_score\n",
        "  fix(env, seed)\n",
        "  agent.network.eval()  # 測試前先將 network 切換為 evaluation 模式\n",
        "  NUM_OF_TEST = 5\n",
        "  test_total_reward = []\n",
        "  action_list = []\n",
        "  for i in range(NUM_OF_TEST):\n",
        "    actions = []\n",
        "    state = env.reset()\n",
        "\n",
        "    img = plt.imshow(env.render(mode='rgb_array'))\n",
        "\n",
        "    total_reward = 0\n",
        "\n",
        "    done = False\n",
        "    while not done:\n",
        "        action = agent.best_action(state)\n",
        "        #print('debug',state, agent.network(torch.FloatTensor(state)), action, torch.argmax(agent.network(torch.FloatTensor(state))).item())\n",
        "        actions.append(action)\n",
        "        state, reward, done, _ = env.step(action)\n",
        "\n",
        "        total_reward += reward\n",
        "\n",
        "        #img.set_data(env.render(mode='rgb_array'))\n",
        "        #display.display(plt.gcf())\n",
        "        #display.clear_output(wait=True)\n",
        "    #print(total_reward)\n",
        "    test_total_reward.append(total_reward)\n",
        "\n",
        "    action_list.append(actions) #儲存你測試的結果\n",
        "    #print(\"length of actions is \", len(actions))\n",
        "\n",
        "  #print(\"Action list looks like \", action_list)\n",
        "  #print(\"Action list's shape looks like \", np.shape(action_list))\n",
        "\n",
        "  if np.mean(test_total_reward) > best_eval_score:\n",
        "    best_eval_score = np.mean(test_total_reward)\n",
        "    PATH = \"Action_List_test.npy\" # 可以改成你想取的名字或路徑\n",
        "    np.save(PATH ,np.array(action_list)) \n",
        "\n",
        "  return np.mean(test_total_reward)\n",
        "    "
      ],
      "execution_count": 19,
      "outputs": []
    },
    {
      "cell_type": "markdown",
      "metadata": {
        "id": "ouv23glgf5Qt"
      },
      "source": [
        "## 訓練 Agent\n",
        "\n",
        "現在我們開始訓練 agent。\n",
        "透過讓 agent 和 environment 互動，我們記住每一組對應的 log probabilities 及 reward，並在成功登陸或者不幸墜毀後，回放這些「記憶」來訓練 policy network。"
      ]
    },
    {
      "cell_type": "code",
      "metadata": {
        "colab": {
          "base_uri": "https://localhost:8080/",
          "height": 542,
          "referenced_widgets": [
            "7f5cff0e3fa8475d9ddcee973ca36039",
            "928b4f33e5f74beea08ac8f568264117",
            "bc10e8f8dcf646e39d11faf8212041ee",
            "7e9badce3bb54a05a9158908b48d28d0",
            "ec899b03d99b49958d7a139fc11f4846",
            "b8334fbcf6bd4e26a95fcca7354604dc",
            "36f5f3c037a94073b4fe99a2d1b8675d",
            "e54f6f04364c4c8f8917f9257564c2a5"
          ]
        },
        "id": "vg5rxBBaf38_",
        "outputId": "84a594b2-14f9-467d-a912-d03f84703836"
      },
      "source": [
        "agent.network.train()  # 訓練前，先確保 network 處在 training 模式\n",
        "EPISODE_PER_BATCH = 5  # 每蒐集 5 個 episodes 更新一次 agent\n",
        "NUM_BATCH = 1000        # 總共更新 400 次\n",
        "\n",
        "avg_total_rewards, avg_final_rewards = [], []\n",
        "nowbestavg = -9999 #201\n",
        "#agent.load(f\"/content/drive/My Drive/colab_workdir/network(201).pth\")\n",
        "#agent.eps *= 0.99**(57+41+31)\n",
        "prg_bar = tqdm(range(NUM_BATCH))\n",
        "for batch in prg_bar:\n",
        "    #fix(env, seed)\n",
        "    log_probs, rewards = [], []\n",
        "    total_rewards, final_rewards = [], []\n",
        "    losses = []\n",
        "    # 蒐集訓練資料\n",
        "    for episode in range(EPISODE_PER_BATCH):\n",
        "        state = env.reset()\n",
        "        total_reward, total_step = 0, 0\n",
        "        seq_rewards = []\n",
        "        while True:\n",
        "\n",
        "          action = agent.sample(state) # at , log(at|st)\n",
        "\n",
        "          next_state, reward, done, _ = env.step(action)\n",
        "\n",
        "          agent.memory.push(state, action, next_state, reward * 0.1, done)\n",
        "          agent.steps += 1\n",
        "          if agent.steps % agent.STEP_LEARN == 0: \n",
        "            losses.append(agent.learn())\n",
        "\n",
        "          state = next_state\n",
        "          total_reward += reward\n",
        "          total_step += 1\n",
        "          \n",
        "          # boss : implement DQN\n",
        "          if done:\n",
        "              final_rewards.append(reward)\n",
        "              total_rewards.append(total_reward)\n",
        "              break\n",
        "    agent.eps = max(agent.EPS_END,agent.eps * 0.99)\n",
        "          \n",
        "    #print(f\"rewards looks like \", np.shape(rewards))  \n",
        "    #print(f\"log_probs looks like \", np.shape(log_probs))     \n",
        "    # 紀錄訓練過程\n",
        "    avg_total_reward = sum(total_rewards) / len(total_rewards)\n",
        "    avg_final_reward = sum(final_rewards) / len(final_rewards)\n",
        "    #print('debugloss', losses)\n",
        "    avg_loss = sum(losses)/len(losses)\n",
        "    avg_total_rewards.append(avg_total_reward)\n",
        "    avg_final_rewards.append(avg_final_reward)\n",
        "    prg_bar.set_description(f\"Total: {avg_total_reward: 4.1f}, Final: {avg_final_reward: 4.1f}, Loss: {avg_loss: 1.5f}\")\n",
        "    \n",
        "    val = eval_model(agent)\n",
        "    print(f\"Your final reward in gen {batch} is : val={val: 4.0f}, train={avg_total_reward: 4.0f}, loss={avg_loss: 1.5f}\")\n",
        "\n",
        "    if batch % 50 == 0:\n",
        "      agent.save(f\"/content/drive/My Drive/colab_workdir/network({int(val)}).pth\")\n",
        "\n",
        "    if nowbestavg < val:\n",
        "      agent.eval_network.load_state_dict(agent.network.state_dict())\n",
        "      agent.save(f\"/content/drive/My Drive/colab_workdir/network({int(val)}).pth\")\n",
        "      if nowbestavg != -9999 and int(nowbestavg) != int(val):\n",
        "        os.remove(f\"/content/drive/My Drive/colab_workdir/network({int(nowbestavg)}).pth\")\n",
        "      nowbestavg = val\n",
        "\n",
        "    #elif avg_total_reward + 300 < nowbestavg:\n",
        "        #print('reload in ',batch ,val, nowbestavg)\n",
        "        #agent.load(f\"/content/drive/My Drive/colab_workdir/network({int(nowbestavg)}).pth\")\n",
        "        \n",
        "    # 更新網路\n",
        "    # rewards = np.concatenate(rewards, axis=0)\n",
        "    #rewards = (rewards - np.mean(rewards)) / (np.std(rewards) + 1e-9)  # 將 reward 正規標準化\n",
        "    #agent.learn(torch.stack(log_probs), torch.from_numpy(rewards))\n",
        "    #print(\"logs prob looks like \", torch.stack(log_probs).size())\n",
        "    #print(\"torch.from_numpy(rewards) looks like \", torch.from_numpy(rewards).size())"
      ],
      "execution_count": null,
      "outputs": [
        {
          "output_type": "display_data",
          "data": {
            "application/vnd.jupyter.widget-view+json": {
              "model_id": "7f5cff0e3fa8475d9ddcee973ca36039",
              "version_minor": 0,
              "version_major": 2
            },
            "text/plain": [
              "HBox(children=(FloatProgress(value=0.0, max=1000.0), HTML(value='')))"
            ]
          },
          "metadata": {
            "tags": []
          }
        },
        {
          "output_type": "stream",
          "text": [
            "/usr/local/lib/python3.7/dist-packages/ipykernel_launcher.py:31: FutureWarning: arrays to stack must be passed as a \"sequence\" type such as list or tuple. Support for non-sequence iterables such as generators is deprecated as of NumPy 1.16 and will raise an error in the future.\n",
            "/usr/local/lib/python3.7/dist-packages/ipykernel_launcher.py:32: FutureWarning: arrays to stack must be passed as a \"sequence\" type such as list or tuple. Support for non-sequence iterables such as generators is deprecated as of NumPy 1.16 and will raise an error in the future.\n",
            "/usr/local/lib/python3.7/dist-packages/ipykernel_launcher.py:33: FutureWarning: arrays to stack must be passed as a \"sequence\" type such as list or tuple. Support for non-sequence iterables such as generators is deprecated as of NumPy 1.16 and will raise an error in the future.\n",
            "/usr/local/lib/python3.7/dist-packages/ipykernel_launcher.py:34: FutureWarning: arrays to stack must be passed as a \"sequence\" type such as list or tuple. Support for non-sequence iterables such as generators is deprecated as of NumPy 1.16 and will raise an error in the future.\n",
            "/usr/local/lib/python3.7/dist-packages/ipykernel_launcher.py:35: FutureWarning: arrays to stack must be passed as a \"sequence\" type such as list or tuple. Support for non-sequence iterables such as generators is deprecated as of NumPy 1.16 and will raise an error in the future.\n",
            "/usr/local/lib/python3.7/dist-packages/torch/__init__.py:422: UserWarning: torch.set_deterministic is deprecated and will be removed in a future release. Please use torch.use_deterministic_algorithms instead\n",
            "  \"torch.set_deterministic is deprecated and will be removed in a future \"\n"
          ],
          "name": "stderr"
        },
        {
          "output_type": "stream",
          "text": [
            "Your final reward in gen 0 is : val= 202, train=  39, loss= 0.17747\n",
            "Your final reward in gen 1 is : val= 197, train=  93, loss= 0.12391\n",
            "Your final reward in gen 2 is : val= 179, train= -19, loss= 0.10428\n",
            "Your final reward in gen 3 is : val= 127, train=  85, loss= 0.12062\n",
            "Your final reward in gen 4 is : val=  26, train= -17, loss= 0.11338\n",
            "Your final reward in gen 5 is : val= -54, train=  84, loss= 0.11848\n",
            "Your final reward in gen 6 is : val=-133, train= -30, loss= 0.10624\n",
            "Your final reward in gen 7 is : val= -17, train= -43, loss= 0.10697\n",
            "Your final reward in gen 8 is : val= -57, train=  65, loss= 0.10159\n",
            "Your final reward in gen 9 is : val=  81, train= -35, loss= 0.10598\n",
            "Your final reward in gen 10 is : val= -19, train=  17, loss= 0.09934\n",
            "Your final reward in gen 11 is : val=  48, train=  30, loss= 0.08821\n",
            "Your final reward in gen 12 is : val=  85, train=  70, loss= 0.08393\n",
            "Your final reward in gen 13 is : val=  77, train=  34, loss= 0.07408\n",
            "Your final reward in gen 14 is : val= 173, train=  97, loss= 0.07598\n",
            "Your final reward in gen 15 is : val= 122, train=  41, loss= 0.07689\n",
            "Your final reward in gen 16 is : val= 205, train= 109, loss= 0.07322\n",
            "Your final reward in gen 17 is : val= 142, train=  67, loss= 0.08046\n",
            "Your final reward in gen 18 is : val= 217, train= 139, loss= 0.07381\n"
          ],
          "name": "stdout"
        }
      ]
    },
    {
      "cell_type": "markdown",
      "metadata": {
        "id": "vNb_tuFYhKVK"
      },
      "source": [
        "### 訓練結果\n",
        "\n",
        "訓練過程中，我們持續記下了 `avg_total_reward`，這個數值代表的是：每次更新 policy network 前，我們讓 agent 玩數個回合（episodes），而這些回合的平均 total rewards 為何。\n",
        "理論上，若是 agent 一直在進步，則所得到的 `avg_total_reward` 也會持續上升，直至 250 上下。\n",
        "若將其畫出來則結果如下："
      ]
    },
    {
      "cell_type": "code",
      "metadata": {
        "id": "wZYOI8H10SHN"
      },
      "source": [
        "end = time.time()\n",
        "plt.plot(avg_total_rewards)\n",
        "plt.title(\"Total Rewards\")\n",
        "plt.show()"
      ],
      "execution_count": null,
      "outputs": []
    },
    {
      "cell_type": "markdown",
      "metadata": {
        "id": "mV5jj4dThz0Y"
      },
      "source": [
        "另外，`avg_final_reward` 代表的是多個回合的平均 final rewards，而 final reward 即是 agent 在單一回合中拿到的最後一個 reward。\n",
        "如果同學們還記得環境給予登月小艇 reward 的方式，便會知道，不論**回合的最後**小艇是不幸墜毀、飛出畫面、或是靜止在地面上，都會受到額外地獎勵或處罰。\n",
        "也因此，final reward 可被用來觀察 agent 的「著地」是否順利等資訊。"
      ]
    },
    {
      "cell_type": "code",
      "metadata": {
        "id": "txDZ5vlGWz5w"
      },
      "source": [
        "plt.plot(avg_final_rewards)\n",
        "plt.title(\"Final Rewards\")\n",
        "plt.show()\n"
      ],
      "execution_count": null,
      "outputs": []
    },
    {
      "cell_type": "markdown",
      "metadata": {
        "id": "gyT7tNwkVdS-"
      },
      "source": [
        "訓練時間\n"
      ]
    },
    {
      "cell_type": "code",
      "metadata": {
        "id": "_t-JsKxUViFy"
      },
      "source": [
        "print(f\"total time is {end-start} sec\")"
      ],
      "execution_count": null,
      "outputs": []
    },
    {
      "cell_type": "markdown",
      "metadata": {
        "id": "u2HaGRVEYGQS"
      },
      "source": [
        "## 測試"
      ]
    },
    {
      "cell_type": "code",
      "metadata": {
        "id": "5yFuUKKRYH73"
      },
      "source": [
        "fix(env, seed)\n",
        "#*agent.load(\"/content/drive/My Drive/colab_workdir/network(-123).pth\")\n",
        "agent.network.eval()  # 測試前先將 network 切換為 evaluation 模式\n",
        "NUM_OF_TEST = 5\n",
        "test_total_reward = []\n",
        "action_list = []\n",
        "for i in range(NUM_OF_TEST):\n",
        "  actions = []\n",
        "  state = env.reset()\n",
        "\n",
        "  img = plt.imshow(env.render(mode='rgb_array'))\n",
        "\n",
        "  total_reward = 0\n",
        "\n",
        "  done = False\n",
        "  while not done:\n",
        "      action = agent.best_action(state)\n",
        "      actions.append(action)\n",
        "      state, reward, done, _ = env.step(action)\n",
        "\n",
        "      total_reward += reward\n",
        "\n",
        "      img.set_data(env.render(mode='rgb_array'))\n",
        "      display.display(plt.gcf())\n",
        "      display.clear_output(wait=True)\n",
        "  print(total_reward)\n",
        "  test_total_reward.append(total_reward)\n",
        "\n",
        "  action_list.append(actions) #儲存你測試的結果\n",
        "  print(\"length of actions is \", len(actions))"
      ],
      "execution_count": null,
      "outputs": []
    },
    {
      "cell_type": "code",
      "metadata": {
        "id": "Aex7mcKr0J01"
      },
      "source": [
        "print(f\"Your final reward is : %.2f\"%np.mean(test_total_reward))"
      ],
      "execution_count": null,
      "outputs": []
    },
    {
      "cell_type": "markdown",
      "metadata": {
        "id": "leyebGYRpqsF"
      },
      "source": [
        "Action list 的長相"
      ]
    },
    {
      "cell_type": "code",
      "metadata": {
        "id": "hGAH4YWDpp4u"
      },
      "source": [
        "print(\"Action list looks like \", action_list)\n",
        "print(\"Action list's shape looks like \", np.shape(action_list))"
      ],
      "execution_count": null,
      "outputs": []
    },
    {
      "cell_type": "markdown",
      "metadata": {
        "id": "l7sokqEUtrFY"
      },
      "source": [
        "Action 的分布\n"
      ]
    },
    {
      "cell_type": "code",
      "metadata": {
        "id": "WHdAItjj1nxw"
      },
      "source": [
        "distribution = {}\n",
        "for actions in action_list:\n",
        "  for action in actions:\n",
        "    if action not in distribution.keys():\n",
        "      distribution[action] = 1\n",
        "    else:\n",
        "      distribution[action] += 1\n",
        "print(distribution)"
      ],
      "execution_count": null,
      "outputs": []
    },
    {
      "cell_type": "markdown",
      "metadata": {
        "id": "ricE0schY75M"
      },
      "source": [
        "儲存 Model Testing的結果\n"
      ]
    },
    {
      "cell_type": "code",
      "metadata": {
        "id": "GZsMkGmIY42b"
      },
      "source": [
        "PATH = \"Action_List_test.npy\" # 可以改成你想取的名字或路徑\n",
        "np.save(PATH ,np.array(action_list)) "
      ],
      "execution_count": null,
      "outputs": []
    },
    {
      "cell_type": "markdown",
      "metadata": {
        "id": "asK7WfbkaLjt"
      },
      "source": [
        "### 你要交到JudgeBoi的檔案94這個\n",
        "儲存結果到本地端 (就是你的電腦裡拉 = = )\n"
      ]
    },
    {
      "cell_type": "code",
      "metadata": {
        "id": "c-CqyhHzaWAL"
      },
      "source": [
        "#from google.colab import files\n",
        "#files.download(PATH)"
      ],
      "execution_count": null,
      "outputs": []
    },
    {
      "cell_type": "markdown",
      "metadata": {
        "id": "seT4NUmWmAZ1"
      },
      "source": [
        "# Server 測試\n",
        "到時候下面會是我們Server上測試的環境，可以給大家看一下自己的表現如何"
      ]
    },
    {
      "cell_type": "code",
      "metadata": {
        "id": "U69c-YTxaw6b"
      },
      "source": [
        "action_list = np.load(PATH,allow_pickle=True) #到時候你上傳的檔案\n",
        "seed = 543 #到時候測試的seed 請不要更改\n",
        "fix(env, seed)\n",
        "\n",
        "agent.network.eval()  # 測試前先將 network 切換為 evaluation 模式\n",
        "\n",
        "test_total_reward = []\n",
        "for actions in action_list:\n",
        "  state = env.reset()\n",
        "  img = plt.imshow(env.render(mode='rgb_array'))\n",
        "\n",
        "  total_reward = 0\n",
        "\n",
        "  done = False\n",
        "  # while not done:\n",
        "  done_count = 0\n",
        "  for action in actions:\n",
        "      # action, _ = agent1.sample(state)\n",
        "      state, reward, done, _ = env.step(action)\n",
        "      done_count += 1\n",
        "      total_reward += reward\n",
        "      if done:\n",
        "        \n",
        "        break\n",
        "      #img.set_data(env.render(mode='rgb_array'))\n",
        "      #display.display(plt.gcf())\n",
        "      #display.clear_output(wait=True)\n",
        "  print(f\"Your reward is : %.2f\"%total_reward)\n",
        "  test_total_reward.append(total_reward)"
      ],
      "execution_count": null,
      "outputs": []
    },
    {
      "cell_type": "markdown",
      "metadata": {
        "id": "TjFBWwQP1hVe"
      },
      "source": [
        "# 你的成績"
      ]
    },
    {
      "cell_type": "code",
      "metadata": {
        "id": "GpJpZz3Wbm0X"
      },
      "source": [
        "print(f\"Your final reward is : %.2f\"%np.mean(test_total_reward))"
      ],
      "execution_count": null,
      "outputs": []
    },
    {
      "cell_type": "markdown",
      "metadata": {
        "id": "wUBtYXG2eaqf"
      },
      "source": [
        "## 參考資料\n",
        "\n",
        "以下是一些有用的參考資料。\n",
        "建議同學們實做前，可以先參考第一則連結的上課影片。\n",
        "在影片的最後有提到兩個有用的 Tips，這對於本次作業的實做非常有幫助。\n",
        "\n",
        "- [DRL Lecture 1: Policy Gradient (Review)](https://youtu.be/z95ZYgPgXOY)\n",
        "- [ML Lecture 23-3: Reinforcement Learning (including Q-learning) start at 30:00](https://youtu.be/2-JNBzCq77c?t=1800)\n",
        "- [Lecture 7: Policy Gradient, David Silver](http://www0.cs.ucl.ac.uk/staff/d.silver/web/Teaching_files/pg.pdf)\n",
        "- 助教的code\n",
        "- https://github.com/openai/gym/blob/master/gym/envs/box2d/lunar_lander.py\n",
        "- https://pytorch.org/tutorials/intermediate/reinforcement_q_learning.html"
      ]
    },
    {
      "cell_type": "markdown",
      "metadata": {
        "id": "cGqP2EU1joWM"
      },
      "source": [
        ""
      ]
    }
  ]
}